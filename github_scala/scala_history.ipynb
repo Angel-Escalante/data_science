{
 "cells": [
  {
   "cell_type": "markdown",
   "metadata": {
    "collapsed": true
   },
   "source": [
    "# 1. Datos del repositorio de proyectos de Scala\n",
    "<img src=\"https://upload.wikimedia.org/wikipedia/commons/thumb/3/39/Scala-full-color.svg/320px-Scala-full-color.svg.png\"  width=\"200\" alt=\"\">\n",
    "\n",
    "Con casi 30.000 confirmaciones y un historial de más de diez años, Scala es un lenguaje de programación maduro. Es un lenguaje de programación de propósito general que recientemente se ha convertido en otro lenguaje destacado para los científicos de datos.\n",
    "\n",
    "Scala es también un proyecto de código abierto. Los proyectos de código abierto tienen la ventaja de que todos sus historiales de desarrollo (quién hizo cambios, qué se cambió, revisiones de código, etc.) están disponibles públicamente.\n",
    "\n",
    "Vamos a leer, limpiar y visualizar el repositorio de proyectos del mundo real de Scala que abarca datos de un sistema de control de versiones (Git), así como un sitio de alojamiento de proyectos (GitHub). Descubriremos quién ha tenido más influencia en su desarrollo y quiénes son los expertos.\n",
    "\n",
    "El conjunto de datos que utilizaremos, que ha sido previamente minado y extraído de GitHub, está compuesto por dos archivos:\n",
    "\n",
    "**pulls.csv** contiene la información básica sobre las solicitudes de pull.\n",
    "**pull_files.csv** contiene los archivos que fueron modificados por cada solicitud de pull."
   ]
  },
  {
   "cell_type": "code",
   "execution_count": 2,
   "outputs": [
    {
     "name": "stdout",
     "output_type": "stream",
     "text": [
      "<class 'pandas.core.frame.DataFrame'>\n",
      "RangeIndex: 6200 entries, 0 to 6199\n",
      "Data columns (total 3 columns):\n",
      " #   Column  Non-Null Count  Dtype \n",
      "---  ------  --------------  ----- \n",
      " 0   pid     6200 non-null   int64 \n",
      " 1   user    6200 non-null   object\n",
      " 2   date    6200 non-null   object\n",
      "dtypes: int64(1), object(2)\n",
      "memory usage: 145.4+ KB\n"
     ]
    }
   ],
   "source": [
    "# Importar pandas\n",
    "import pandas as pd\n",
    "\n",
    "# Cargar datos en dataframes\n",
    "df_pull_files = pd.read_csv(\"datasets/pull_files.csv\")\n",
    "df_pulls = pd.read_csv(\"datasets/pulls.csv\")\n",
    "df_pulls.info()"
   ],
   "metadata": {
    "collapsed": false
   }
  },
  {
   "cell_type": "markdown",
   "source": [
    "# 2. Limpiar datos\n",
    "Los datos sin procesar extraídos de GitHub contienen fechas en el formato ISO8601. Sin embargo, pandas los importa como cadenas regulares. Para facilitar nuestro análisis, necesitamos convertir las cadenas en objetos DateTime de Python. Los objetos DateTime tienen la propiedad importante de que se pueden comparar y ordenar.\n",
    "\n",
    "Los tiempos de solicitud de extracción están todos en UTC (también conocido como Tiempo Universal Coordinado). Los tiempos de confirmación, sin embargo, están en la hora local del autor con información de zona horaria (número de horas de diferencia con UTC). Para facilitar las comparaciones, debemos convertir todas las horas a UTC."
   ],
   "metadata": {
    "collapsed": false
   }
  },
  {
   "cell_type": "code",
   "execution_count": 5,
   "outputs": [
    {
     "name": "stdout",
     "output_type": "stream",
     "text": [
      "<class 'pandas.core.frame.DataFrame'>\n",
      "RangeIndex: 6200 entries, 0 to 6199\n",
      "Data columns (total 3 columns):\n",
      " #   Column  Non-Null Count  Dtype              \n",
      "---  ------  --------------  -----              \n",
      " 0   pid     6200 non-null   int64              \n",
      " 1   user    6200 non-null   object             \n",
      " 2   date    6200 non-null   datetime64[ns, UTC]\n",
      "dtypes: datetime64[ns, UTC](1), int64(1), object(1)\n",
      "memory usage: 145.4+ KB\n"
     ]
    }
   ],
   "source": [
    "# Convertir cadenas a Datetime\n",
    "df_pulls.date = pd.to_datetime(df_pulls.date, utc=True)\n",
    "df_pulls.info()"
   ],
   "metadata": {
    "collapsed": false
   }
  },
  {
   "cell_type": "markdown",
   "source": [
    "# 3. Fusionando los DataFrames\n",
    "Los datos extraídos vienen en dos archivos separados. La fusión de los dos DataFrames nos facilitará el análisis de los datos en las tareas futuras."
   ],
   "metadata": {
    "collapsed": false
   }
  },
  {
   "cell_type": "code",
   "execution_count": 7,
   "outputs": [
    {
     "data": {
      "text/plain": "            pid        user                      date  \\\n35072  10627497     xeno-by 2013-12-08 16:19:14+00:00   \n13639  65035807         soc 2016-04-02 11:41:39+00:00   \n64505   2484937       paulp 2012-09-28 14:41:04+00:00   \n7451   96879369   som-snytt 2016-12-07 08:37:29+00:00   \n68809   2215125  vigdorchik 2012-08-31 08:46:24+00:00   \n\n                                                    file  \n35072                         test/files/run/t6381.check  \n13639  src/reflect/scala/reflect/internal/util/String...  \n64505          test/files/neg/unchecked-refinement.check  \n7451                          test/files/neg/t8704.scala  \n68809  src/compiler/scala/tools/nsc/doc/model/ModelFa...  ",
      "text/html": "<div>\n<style scoped>\n    .dataframe tbody tr th:only-of-type {\n        vertical-align: middle;\n    }\n\n    .dataframe tbody tr th {\n        vertical-align: top;\n    }\n\n    .dataframe thead th {\n        text-align: right;\n    }\n</style>\n<table border=\"1\" class=\"dataframe\">\n  <thead>\n    <tr style=\"text-align: right;\">\n      <th></th>\n      <th>pid</th>\n      <th>user</th>\n      <th>date</th>\n      <th>file</th>\n    </tr>\n  </thead>\n  <tbody>\n    <tr>\n      <th>35072</th>\n      <td>10627497</td>\n      <td>xeno-by</td>\n      <td>2013-12-08 16:19:14+00:00</td>\n      <td>test/files/run/t6381.check</td>\n    </tr>\n    <tr>\n      <th>13639</th>\n      <td>65035807</td>\n      <td>soc</td>\n      <td>2016-04-02 11:41:39+00:00</td>\n      <td>src/reflect/scala/reflect/internal/util/String...</td>\n    </tr>\n    <tr>\n      <th>64505</th>\n      <td>2484937</td>\n      <td>paulp</td>\n      <td>2012-09-28 14:41:04+00:00</td>\n      <td>test/files/neg/unchecked-refinement.check</td>\n    </tr>\n    <tr>\n      <th>7451</th>\n      <td>96879369</td>\n      <td>som-snytt</td>\n      <td>2016-12-07 08:37:29+00:00</td>\n      <td>test/files/neg/t8704.scala</td>\n    </tr>\n    <tr>\n      <th>68809</th>\n      <td>2215125</td>\n      <td>vigdorchik</td>\n      <td>2012-08-31 08:46:24+00:00</td>\n      <td>src/compiler/scala/tools/nsc/doc/model/ModelFa...</td>\n    </tr>\n  </tbody>\n</table>\n</div>"
     },
     "execution_count": 7,
     "metadata": {},
     "output_type": "execute_result"
    }
   ],
   "source": [
    "# Fusionar DataFrames\n",
    "df_data = pd.merge(df_pulls, df_pull_files, on=\"pid\")\n",
    "df_data.sample(5)"
   ],
   "metadata": {
    "collapsed": false
   }
  },
  {
   "cell_type": "markdown",
   "source": [
    "# 4. ¿Se sigue manteniendo activamente el proyecto?\n",
    "La actividad en un proyecto de código abierto no es muy consistente. Algunos proyectos pueden estar activos durante muchos años después del lanzamiento inicial, mientras que otros pueden desaparecer lentamente. Antes de comprometerse a contribuir con un proyecto, es importante entender el estado del proyecto. ¿El desarrollo va de manera constante o hay una caída? ¿Se ha abandonado el proyecto por completo?\n",
    "\n",
    "Los datos utilizados en este proyecto fueron recolectados en enero de 2018. Nos interesa la evolución del número de aportes hasta esa fecha.\n",
    "\n",
    "Para Scala, haremos esto trazando un gráfico de la actividad del proyecto. Calcularemos la cantidad de pull requests enviadas cada mes (calendario) durante la vida útil del proyecto. Luego trazaremos estos números para ver la tendencia de las contribuciones."
   ],
   "metadata": {
    "collapsed": false
   }
  },
  {
   "cell_type": "code",
   "execution_count": 31,
   "outputs": [
    {
     "data": {
      "text/plain": "<Axes: xlabel='month,year'>"
     },
     "execution_count": 31,
     "metadata": {},
     "output_type": "execute_result"
    },
    {
     "data": {
      "text/plain": "<Figure size 1200x400 with 1 Axes>",
      "image/png": "[encoded data removed]"
     },
     "metadata": {},
     "output_type": "display_data"
    }
   ],
   "source": [
    "# Crear columna para guardar el mes\n",
    "df_pulls[\"month\"] = df_pulls.date.dt.month  # nuevas columnas se crean con los corchetes\n",
    "\n",
    "# Crear columna para guardar el año\n",
    "df_pulls[\"year\"] = df_pulls.date.dt.year\n",
    "\n",
    "# Obtener solo los pulls donde year == 2012, para mejor visualizacion\n",
    "counts_in_year = df_pulls[df_pulls.year == 2012]\n",
    "\n",
    "# Agrupar por mes y año; contar el numero de pull requests.\n",
    "# counts = df_pulls.groupby([\"month\", \"year\"]).count()\n",
    "counts = counts_in_year.groupby([\"month\", \"year\"]).count()\n",
    "\n",
    "# Graficar resultados\n",
    "# counts.date.plot.bar()  # necesita del paquete matplotlib, instalarlo\n",
    "counts.date.plot(kind=\"bar\", figsize=(12, 4))  # figsize es width x height en inches"
   ],
   "metadata": {
    "collapsed": false
   }
  },
  {
   "cell_type": "markdown",
   "source": [
    "# 5. ¿Hay compañerismo en el proyecto?\n",
    "La estructura organizativa varía de un proyecto a otro y puede influir en su éxito como colaborador. Un proyecto que tiene una comunidad muy pequeña podría no ser el mejor para empezar a trabajar. La pequeña comunidad podría indicar una gran barrera de entrada. Esto puede deberse a varios factores, incluida una comunidad que se resiste a aceptar solicitudes de pull requests de \"externos\", que es difícil trabajar con la base de código, etc. Sin embargo, una comunidad grande puede servir como un indicador de que el proyecto acepta solicitudes de pull requests de nuevos colaboradores regularmente. Tal proyecto sería un buen lugar para comenzar.\n",
    "\n",
    "Para evaluar la dinámica de la comunidad, trazaremos un histograma de la cantidad de pull requests enviadas por cada usuario. Una distribución que muestre que hay pocas personas que solo contribuyen con una pequeña cantidad de pull requests se puede utilizar como indicador de que el proyecto no está recibiendo nuevos contribuyentes."
   ],
   "metadata": {
    "collapsed": false
   }
  },
  {
   "cell_type": "code",
   "execution_count": 33,
   "outputs": [
    {
     "data": {
      "text/plain": "<Axes: ylabel='Frequency'>"
     },
     "execution_count": 33,
     "metadata": {},
     "output_type": "execute_result"
    },
    {
     "data": {
      "text/plain": "<Figure size 640x480 with 1 Axes>",
      "image/png": "[encoded data removed]"
     },
     "metadata": {},
     "output_type": "display_data"
    }
   ],
   "source": [
    "# Agrupar por usuario\n",
    "counts_by_user = df_pulls.groupby([\"user\"]).count()\n",
    "# Graficar histograma\n",
    "counts_by_user.pid.plot.hist(bins=20)  # Cantidad de barras entre instancias de x (entre 0 - 200)"
   ],
   "metadata": {
    "collapsed": false
   }
  },
  {
   "cell_type": "markdown",
   "source": [
    "# 6. ¿Qué archivos se cambiaron en los últimos diez pull requests?\n",
    "Elegir el lugar adecuado para hacer una contribución es tan importante como elegir el proyecto al que contribuir. Algunas partes del código pueden ser estables, otras pueden estar muertas. Contribuir allí podría no tener el mayor impacto. Por lo tanto, es importante comprender las partes del sistema que se han modificado recientemente. Esto nos permite identificar las áreas \"calientes\" del código donde ocurre la mayor parte de la actividad. Centrarse en esas partes podría no ser el uso más efectivo de nuestros tiempos."
   ],
   "metadata": {
    "collapsed": false
   }
  },
  {
   "cell_type": "code",
   "execution_count": 42,
   "outputs": [
    {
     "data": {
      "text/plain": "{'LICENSE',\n 'doc/LICENSE.md',\n 'doc/License.rtf',\n 'project/VersionUtil.scala',\n 'src/compiler/scala/reflect/reify/phases/Calculate.scala',\n 'src/compiler/scala/tools/nsc/backend/jvm/BCodeHelpers.scala',\n 'src/compiler/scala/tools/nsc/backend/jvm/PostProcessor.scala',\n 'src/compiler/scala/tools/nsc/backend/jvm/analysis/BackendUtils.scala',\n 'src/compiler/scala/tools/nsc/profile/AsyncHelper.scala',\n 'src/compiler/scala/tools/nsc/profile/Profiler.scala',\n 'src/compiler/scala/tools/nsc/symtab/classfile/ClassfileParser.scala',\n 'src/compiler/scala/tools/nsc/typechecker/Contexts.scala',\n 'src/library/scala/Predef.scala',\n 'src/library/scala/concurrent/Lock.scala',\n 'src/library/scala/util/Properties.scala',\n 'src/reflect/scala/reflect/internal/pickling/ByteCodecs.scala',\n 'src/reflect/scala/reflect/internal/tpe/GlbLubs.scala',\n 'src/scaladoc/scala/tools/nsc/doc/html/page/Entity.scala',\n 'src/scalap/decoder.properties',\n 'test/files/neg/leibniz-liskov.check',\n 'test/files/neg/leibniz-liskov.scala',\n 'test/files/pos/leibniz-liskov.scala',\n 'test/files/pos/leibniz_liskov.scala',\n 'test/files/pos/parallel-classloader.scala',\n 'test/files/pos/t10568/Converter.java',\n 'test/files/pos/t10568/Impl.scala',\n 'test/files/pos/t10686.scala',\n 'test/files/pos/t5638/Among.java',\n 'test/files/pos/t5638/Usage.scala',\n 'test/files/pos/t9291.scala',\n 'test/files/run/t8348.check',\n 'test/files/run/t8348/TableColumn.java',\n 'test/files/run/t8348/TableColumnImpl.java',\n 'test/files/run/t8348/Test.scala'}"
     },
     "execution_count": 42,
     "metadata": {},
     "output_type": "execute_result"
    }
   ],
   "source": [
    "# Identificar los ultimos 10 pull requests\n",
    "df_last_pulls = df_pulls.sort_values(by=\"date\", ascending=False).head(10)\n",
    "\n",
    "# Unir con pull files\n",
    "df_last_pulls = df_last_pulls.merge(df_pull_files, on=\"pid\")\n",
    "\n",
    "# Eliminar archivos repetidos\n",
    "files = set(df_last_pulls.file)\n",
    "\n",
    "# Imprimir resultados\n",
    "files"
   ],
   "metadata": {
    "collapsed": false
   }
  },
  {
   "cell_type": "markdown",
   "source": [
    "# 7. ¿Quién realizó la mayor cantidad de pull requests a un archivo determinado?\n",
    "Al contribuir a un proyecto, es posible que necesitemos alguna orientación. Es posible que necesitemos información sobre el código base. Es importante dirigir cualquier pregunta a la persona adecuada. Los colaboradores de proyectos de código abierto generalmente tienen otros trabajos diarios, por lo que su tiempo es limitado. Es importante dirigir nuestras preguntas a las personas adecuadas. Una forma de identificar el objetivo correcto para nuestras consultas es utilizando su historial de contribuciones.\n",
    "\n",
    "Identificamos <code>src/compiler/scala/reflect/reify/phases/Calculate.scala</code> como modificado recientemente. Estamos interesados en los 3 principales desarrolladores que cambiaron ese archivo. Esos desarrolladores son los que probablemente tengan la mejor comprensión del código."
   ],
   "metadata": {
    "collapsed": false
   }
  },
  {
   "cell_type": "code",
   "execution_count": 47,
   "outputs": [
    {
     "data": {
      "text/plain": "          pid  date  file  month  year\nuser                                  \nxeno-by    11    11    11     11    11\nretronym    5     5     5      5     5\nsoc         4     4     4      4     4",
      "text/html": "<div>\n<style scoped>\n    .dataframe tbody tr th:only-of-type {\n        vertical-align: middle;\n    }\n\n    .dataframe tbody tr th {\n        vertical-align: top;\n    }\n\n    .dataframe thead th {\n        text-align: right;\n    }\n</style>\n<table border=\"1\" class=\"dataframe\">\n  <thead>\n    <tr style=\"text-align: right;\">\n      <th></th>\n      <th>pid</th>\n      <th>date</th>\n      <th>file</th>\n      <th>month</th>\n      <th>year</th>\n    </tr>\n    <tr>\n      <th>user</th>\n      <th></th>\n      <th></th>\n      <th></th>\n      <th></th>\n      <th></th>\n    </tr>\n  </thead>\n  <tbody>\n    <tr>\n      <th>xeno-by</th>\n      <td>11</td>\n      <td>11</td>\n      <td>11</td>\n      <td>11</td>\n      <td>11</td>\n    </tr>\n    <tr>\n      <th>retronym</th>\n      <td>5</td>\n      <td>5</td>\n      <td>5</td>\n      <td>5</td>\n      <td>5</td>\n    </tr>\n    <tr>\n      <th>soc</th>\n      <td>4</td>\n      <td>4</td>\n      <td>4</td>\n      <td>4</td>\n      <td>4</td>\n    </tr>\n  </tbody>\n</table>\n</div>"
     },
     "execution_count": 47,
     "metadata": {},
     "output_type": "execute_result"
    }
   ],
   "source": [
    "# Archivo en el que estamos interesados:\n",
    "file = 'src/compiler/scala/reflect/reify/phases/Calculate.scala'\n",
    "\n",
    "# Identificamos que commits modificaron el archivo\n",
    "df_file = df_data[df_data.file == file]\n",
    "\n",
    "# Contamos el numero de cambios por cada developer\n",
    "developer_count = df_file.groupby(\"user\").count()\n",
    "\n",
    "# Imprimimos el top ten 3 developers\n",
    "developer_count.sort_values(by=\"pid\", ascending=False).head(3)"
   ],
   "metadata": {
    "collapsed": false
   }
  },
  {
   "cell_type": "markdown",
   "source": [
    "# 8. ¿Quién realizó las últimas diez solicitudes de incorporación de cambios en un archivo determinado?\n",
    "Los proyectos de código abierto sufren de cambios en los integrantes. Esto hace que el problema de encontrar a la persona adecuada sea más desafiante: la persona debe estar bien informada y aun así estar involucrada en el proyecto. Es posible que una persona que contribuyó mucho en el pasado ya no esté disponible (o dispuesta) a ayudar. Para obtener una mejor comprensión, necesitamos investigar la historia más reciente de esa parte particular del sistema.\n",
    "\n",
    "Al igual que en la tarea anterior, veremos el historial de <code>src/compiler/scala/reflect/reify/phases/Calculate.scala.</code>"
   ],
   "metadata": {
    "collapsed": false
   }
  },
  {
   "cell_type": "code",
   "execution_count": 7,
   "outputs": [],
   "source": [
    "# Archivo en el que estamos interesados:\n",
    "file = 'src/compiler/scala/reflect/reify/phases/Calculate.scala'\n",
    "\n",
    "# Seleccionamos los pull request que cambiaron al archivo de interes\n",
    "\n",
    "# Unimos los resultados obtenidos con el pulls DataFrame\n",
    "\n",
    "\n",
    "# Buscamos los usuarios de las ultimas 10 pull requests\n",
    "\n",
    "# Imprimimos resultados"
   ],
   "metadata": {
    "collapsed": false
   }
  },
  {
   "cell_type": "markdown",
   "source": [
    "# 9. Los pull requests de dos desarrolladores especiales\n",
    "Ahora que hemos identificado dos contactos potenciales en los proyectos, necesitamos encontrar a la persona que estuvo más involucrada en el proyecto en los últimos tiempos. Es más probable que esa persona responda a nuestras preguntas. Estamos interesados en comprender la cantidad de pull requests que enviaron los autores. Esto nos dará una imagen de su tendencia de contribución al proyecto."
   ],
   "metadata": {
    "collapsed": false
   }
  },
  {
   "cell_type": "code",
   "execution_count": null,
   "outputs": [],
   "source": [
    "# Los desarrolladores en los que estamos interesados:\n",
    "authors = ['xeno-by', 'soc']\n",
    "\n",
    "# Traer todos los pull requests de esos desarrolladores:\n",
    "\n",
    "# Contar el número de pull requests de cada año\n",
    "\n",
    "# Convertir tabla\n",
    "\n",
    "# Graficar resultados"
   ],
   "metadata": {
    "collapsed": false
   }
  },
  {
   "cell_type": "markdown",
   "source": [
    "# 10. Visualizando las contribuciones de cada desarrollador\n",
    "Como se mencionó anteriormente, es importante hacer una distinción entre la experiencia global y los niveles de contribución y los niveles de contribución a un nivel más granular (archivo, submódulo, etc.) En nuestro caso para cada año, queremos ver cuál de nuestros dos desarrolladores de interés tiene la mayor experiencia con el código en un archivo dado. Mediremos la experiencia por la cantidad de pull requests enviadas que afectan a ese archivo y qué tan recientemente se enviaron esas solicitudes."
   ],
   "metadata": {
    "collapsed": false
   }
  },
  {
   "cell_type": "code",
   "execution_count": null,
   "outputs": [],
   "source": [
    "authors = ['xeno-by', 'soc']\n",
    "file = 'src/compiler/scala/reflect/reify/phases/Calculate.scala'\n",
    "\n",
    "# Filtrar dataframe por autor\n",
    "\n",
    "# Seleccionar pull requests de determinado archivo\n",
    "\n",
    "# Agrupar y contar el número de pull requests echos por cada usuario en cada año\n",
    "\n",
    "# Convertir tabla\n",
    "\n",
    "\n",
    "# Graficar resultados\n"
   ],
   "metadata": {
    "collapsed": false
   }
  }
 ],
 "metadata": {
  "kernelspec": {
   "display_name": "Python 3",
   "language": "python",
   "name": "python3"
  },
  "language_info": {
   "codemirror_mode": {
    "name": "ipython",
    "version": 2
   },
   "file_extension": ".py",
   "mimetype": "text/x-python",
   "name": "python",
   "nbconvert_exporter": "python",
   "pygments_lexer": "ipython2",
   "version": "2.7.6"
  }
 },
 "nbformat": 4,
 "nbformat_minor": 0
}
